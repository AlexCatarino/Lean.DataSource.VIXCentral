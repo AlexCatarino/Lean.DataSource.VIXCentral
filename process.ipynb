{
 "metadata": {
  "language_info": {
   "codemirror_mode": {
    "name": "ipython",
    "version": 3
   },
   "file_extension": ".py",
   "mimetype": "text/x-python",
   "name": "python",
   "nbconvert_exporter": "python",
   "pygments_lexer": "ipython3",
   "version": 3
  },
  "orig_nbformat": 2
 },
 "nbformat": 4,
 "nbformat_minor": 2,
 "cells": [
  {
   "cell_type": "code",
   "execution_count": null,
   "metadata": {},
   "outputs": [],
   "source": [
    "import pathlib\n",
    "import sys\n",
    "import numpy as np\n",
    "import pandas as pd"
   ]
  },
  {
   "cell_type": "code",
   "execution_count": null,
   "metadata": {},
   "outputs": [],
   "source": [
    "def get_and_save_vix_contago(destination_folder):\n",
    "    \"\"\"\n",
    "    Get and download data from VIX central and save as CSV.\n",
    "    :param destination_file: data destination folder.\n",
    "    :return: True if success, false otherwise.\n",
    "    \"\"\"\n",
    "    print('Downloading data from VIX central')\n",
    "\n",
    "    try:\n",
    "        df = pd.read_html('http://vixcentral.com/historical/?days=100000')[0]\n",
    "        df.columns = df.iloc[0]\n",
    "        df.drop(index=0, inplace=True)\n",
    "        df.drop(index=len(df), inplace=True)\n",
    "        df['Date'] = pd.to_datetime(df['Date'])\n",
    "        df = df.set_index('Date').sort_index()\n",
    "        df['Contango 2/1'] = df['Contango 2/1'].str.replace('%', '').astype(float).mul(0.01)\n",
    "        df['Contango 7/4'] = df['Contango 7/4'].str.replace('%', '').astype(float).mul(0.01)\n",
    "        df['Con 7/4 div 3'] = df['Con 7/4 div 3'].str.replace('%', '').astype(float).mul(0.01)\n",
    "        for c in df:\n",
    "            df[c] = df[c].replace('-', np.nan)\n",
    "            df[c] = df[c].astype(float)\n",
    "        print(f'Saving data to {destination_folder}/vix_contago.csv')\n",
    "        df.to_csv(f'{destination_folder}/vix_contago.csv')\n",
    "        print(f'Data has successfully been saved')\n",
    "        return True\n",
    "    except Exception as e:\n",
    "        print(f'get_and_save_vix_contago(): Fail to get data from VIX central. {e}')\n",
    "        return False"
   ]
  },
  {
   "cell_type": "code",
   "execution_count": null,
   "metadata": {},
   "outputs": [],
   "source": [
    "output_path = pathlib.Path('/temp-output-directory/alternative/vixcentral/').mkdir(parents=True, exist_ok=True)\n",
    "\n",
    "if not get_and_save_vix_contago(str(output_path)):\n",
    "    raise Exception('Failed to download/convert VIX Central Contango data')"
   ]
  },
  {
   "cell_type": "code",
   "execution_count": null,
   "metadata": {},
   "outputs": [],
   "source": [
    "!aws s3 sync /temp-output-directory s3://cache.quantconnect.com --no-progress"
   ]
  },
  {
   "cell_type": "code",
   "execution_count": null,
   "metadata": {},
   "outputs": [],
   "source": [
    "# Error in the spelling of the original, but maintain for backwards compatibility.\n",
    "!cp /temp-output-directory/alternative/vixcentral/vix_contago.csv /temp-output-directory/alternative/vixcentral/vix_contango.csv"
   ]
  }
 ]
}